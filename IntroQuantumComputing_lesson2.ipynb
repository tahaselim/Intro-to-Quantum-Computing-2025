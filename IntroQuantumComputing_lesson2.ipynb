{
 "cells": [
  {
   "attachments": {},
   "cell_type": "markdown",
   "metadata": {},
   "source": [
    "# Introduction to Quantum Computing Workshop - Lesson 2\n",
    "## Mathematical background for quantum computing\n",
    "Author: Ronald Tangelder<br>\n",
    "Date: May 08, 2025<br>\n",
    "\n",
    "This notebook makes use of the following Python library\n",
    "* Numpy\n",
    "\n",
    "Topics addressed in this notebook\n",
    "* Linear Algebra Basics\n",
    "    * Vectors and matrices \n",
    "    * Vector and matrix operations\n",
    "* Complex numbers\n",
    "    * Operations on complex numbers"
   ]
  },
  {
   "cell_type": "markdown",
   "metadata": {},
   "source": [
    "## NumPy\n",
    "NumPy (short for Numerical Python) is a Python library specifically aimed at scientific computing. It is used for working with (multi-dimensional) arrays. Amongst others, it provides functions for linear algebra, fourier transforms, and matrices.\n",
    "\n",
    "NumPy is usually imported using the alias `np`. You can check the version using `np.__version__`."
   ]
  },
  {
   "cell_type": "code",
   "execution_count": null,
   "metadata": {},
   "outputs": [],
   "source": [
    "import numpy as np\n",
    "\n",
    "print(np.__version__)"
   ]
  },
  {
   "cell_type": "markdown",
   "metadata": {},
   "source": [
    "## The norm of a vector\n",
    "\n",
    "The NumPy library offers functions like norm, to calculate the norm of a vector."
   ]
  },
  {
   "cell_type": "code",
   "execution_count": null,
   "metadata": {},
   "outputs": [],
   "source": [
    "# create a 2D vector\n",
    "v = np.array([3,4])\n",
    "len = np.linalg.norm(v)\n",
    "print(v)\n",
    "print(len)"
   ]
  },
  {
   "cell_type": "markdown",
   "metadata": {},
   "source": [
    "## Matrix multiplication\n",
    "Also matrix multiplication is supported in NumPy"
   ]
  },
  {
   "cell_type": "markdown",
   "metadata": {},
   "source": [
    "Below two matrices A and B are defined. \n",
    "\n",
    "The operator for matrix multiplication in numPy is @"
   ]
  },
  {
   "cell_type": "code",
   "execution_count": null,
   "metadata": {},
   "outputs": [],
   "source": [
    "A = np.array([[1,2],[3,4]])\n",
    "B = np.array([[5,6],[7,8]])\n",
    "Result2D = A @ B\n",
    "print(Result2D)"
   ]
  },
  {
   "cell_type": "markdown",
   "metadata": {},
   "source": [
    "This works also for two 3x3 matrices."
   ]
  },
  {
   "cell_type": "code",
   "execution_count": null,
   "metadata": {},
   "outputs": [],
   "source": [
    "C = np.array([[1,2,3],[4,5,6],[7,8,9]])\n",
    "D = np.array([[1,0,0],[0,1,0],[0,0,1]])\n",
    "Result3D = C @ D\n",
    "print(Result3D)"
   ]
  },
  {
   "cell_type": "markdown",
   "metadata": {},
   "source": [
    "If the matrices don't fit, an error will occur."
   ]
  },
  {
   "cell_type": "code",
   "execution_count": null,
   "metadata": {},
   "outputs": [],
   "source": [
    "E = np.array([[1,2],[3,4],[5,6]])\n",
    "F = np.array([[1,2,3],[4,5,6],[7,8,9]])\n",
    "\n",
    "ResultError = E @ F\n"
   ]
  },
  {
   "cell_type": "markdown",
   "metadata": {},
   "source": [
    "## Matrix addition"
   ]
  },
  {
   "cell_type": "markdown",
   "metadata": {},
   "source": [
    "Below two matrices A and B are defined. "
   ]
  },
  {
   "cell_type": "code",
   "execution_count": null,
   "metadata": {},
   "outputs": [],
   "source": [
    "A = np.array([[1,2],[3,4]])\n",
    "B = np.array([[5,6],[7,8]])\n",
    "Result2D = A + B\n",
    "print(Result2D)"
   ]
  },
  {
   "cell_type": "markdown",
   "metadata": {},
   "source": [
    "## The transpose of a matrix"
   ]
  },
  {
   "cell_type": "code",
   "execution_count": null,
   "metadata": {},
   "outputs": [],
   "source": [
    "A = np.array([[1,2,3],[4,5,6]])\n",
    "print(A)\n",
    "TransposeA = np.transpose(A)\n",
    "print(TransposeA)"
   ]
  },
  {
   "cell_type": "markdown",
   "metadata": {},
   "source": [
    "## Complex numbers\n",
    "\n",
    "In the mathematical domain the letter *i* is used for the imaginary number, in the electrical domain typically the letter *j* is used.\n"
   ]
  },
  {
   "cell_type": "code",
   "execution_count": null,
   "metadata": {},
   "outputs": [],
   "source": [
    "c = complex(3,4)\n",
    "print(c)"
   ]
  },
  {
   "cell_type": "markdown",
   "metadata": {},
   "source": [
    "## The modulus of a complex number\n",
    "For the modulus of a complex number, you should use the function absolute"
   ]
  },
  {
   "cell_type": "code",
   "execution_count": null,
   "metadata": {
    "scrolled": true
   },
   "outputs": [],
   "source": [
    "modulus = np.absolute(c)\n",
    "print(modulus)"
   ]
  },
  {
   "cell_type": "markdown",
   "metadata": {},
   "source": [
    "## The argument of a complex number\n",
    "For the argument of a complex number, you should use the function angle\n",
    "\n",
    "This function can either return radians or degrees."
   ]
  },
  {
   "cell_type": "code",
   "execution_count": null,
   "metadata": {},
   "outputs": [],
   "source": [
    "c = 1 + 1j\n",
    "argument1 = np.angle(c, deg = False)\n",
    "print(argument1)\n",
    "argument2 = np.angle(c, deg = True)\n",
    "print(argument2)\n",
    "\n",
    "d = -1 -1j\n",
    "argument3 = np.angle(d, deg = True)\n",
    "print(argument3)"
   ]
  },
  {
   "cell_type": "markdown",
   "metadata": {},
   "source": [
    "## The conjungate of a complex number\n",
    "\n",
    "The library numPy provided the function conj(), which can calculate the conjugate of an array."
   ]
  },
  {
   "cell_type": "code",
   "execution_count": null,
   "metadata": {},
   "outputs": [],
   "source": [
    "M = np.array([[1, 1+1j], [1+2j, 3]])\n",
    "print(M)\n",
    "M_star = M.conj()\n",
    "print(M_star)"
   ]
  },
  {
   "cell_type": "markdown",
   "metadata": {},
   "source": [
    "## Exercises\n",
    "Multiply and divide the complex numbers *c1 = 4+4i* and *c2 = 2-2i* directly in the Carthesian form.\n",
    "\n",
    "Rewrite them into polar form and perfom the same operations.\n",
    "\n",
    "Show that the results are the same."
   ]
  },
  {
   "cell_type": "code",
   "execution_count": null,
   "metadata": {},
   "outputs": [],
   "source": []
  }
 ],
 "metadata": {
  "kernelspec": {
   "display_name": "Python 3 (ipykernel)",
   "language": "python",
   "name": "python3"
  },
  "language_info": {
   "codemirror_mode": {
    "name": "ipython",
    "version": 3
   },
   "file_extension": ".py",
   "mimetype": "text/x-python",
   "name": "python",
   "nbconvert_exporter": "python",
   "pygments_lexer": "ipython3",
   "version": "3.11.7"
  }
 },
 "nbformat": 4,
 "nbformat_minor": 4
}

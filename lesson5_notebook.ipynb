{
  "cells": [
    {
      "cell_type": "markdown",
      "metadata": {
        "id": "bha0vStla7Zh"
      },
      "source": [
        "# Notebook week 5 Quantum Computing Workshop"
      ]
    },
    {
      "cell_type": "markdown",
      "metadata": {},
      "source": [
        "## Simple example"
      ]
    },
    {
      "cell_type": "markdown",
      "metadata": {
        "id": "0rvGqP55a5KQ"
      },
      "source": [
        "### Install required packages"
      ]
    },
    {
      "cell_type": "code",
      "execution_count": null,
      "metadata": {},
      "outputs": [],
      "source": [
        "%%writefile requirements.txt\n",
        "\n",
        "aiohappyeyeballs==2.6.1\n",
        "aiohttp==3.12.7\n",
        "aiosignal==1.3.2\n",
        "annotated-types==0.7.0\n",
        "asttokens==3.0.0\n",
        "attrs==25.3.0\n",
        "cachetools==6.0.0\n",
        "certifi==2025.4.26\n",
        "chardet==5.2.0\n",
        "charset-normalizer==3.4.2\n",
        "click==8.2.1\n",
        "colorama==0.4.6\n",
        "comm==0.2.2\n",
        "contourpy==1.3.2\n",
        "cycler==0.12.1\n",
        "debugpy==1.8.14\n",
        "decorator==5.2.1\n",
        "dill==0.4.0\n",
        "distlib==0.3.9\n",
        "executing==2.2.0\n",
        "filelock==3.18.0\n",
        "fonttools==4.58.1\n",
        "frozenlist==1.6.0\n",
        "idna==3.10\n",
        "ipykernel==6.29.5\n",
        "ipython==9.3.0\n",
        "ipython_pygments_lexers==1.1.1\n",
        "jedi==0.19.2\n",
        "jupyter_client==8.6.3\n",
        "jupyter_core==5.8.1\n",
        "kiwisolver==1.4.8\n",
        "libqasm==1.2.0\n",
        "markdown-it-py==3.0.0\n",
        "matplotlib==3.10.3\n",
        "matplotlib-inline==0.1.7\n",
        "mdurl==0.1.2\n",
        "mpmath==1.3.0\n",
        "multidict==6.4.4\n",
        "nest-asyncio==1.6.0\n",
        "networkx==3.5\n",
        "numpy==1.26.4\n",
        "oauthlib==3.2.2\n",
        "opensquirrel==0.5.0\n",
        "packaging==25.0\n",
        "parso==0.8.4\n",
        "pbr==6.1.1\n",
        "pillow==11.2.1\n",
        "platformdirs==4.3.8\n",
        "pluggy==1.6.0\n",
        "prompt_toolkit==3.0.51\n",
        "propcache==0.3.1\n",
        "psutil==7.0.0\n",
        "pure_eval==0.2.3\n",
        "pydantic==2.11.5\n",
        "pydantic-settings==2.9.1\n",
        "pydantic_core==2.33.2\n",
        "Pygments==2.19.1\n",
        "PyJWT==2.10.1\n",
        "pylatexenc==2.10\n",
        "pyparsing==3.2.3\n",
        "pyproject-api==1.9.1\n",
        "python-dateutil==2.9.0.post0\n",
        "python-dotenv==1.1.0\n",
        "pywin32==310\n",
        "pyzmq==26.4.0\n",
        "qi-compute-api-client==0.50.0\n",
        "qiskit==1.4.3\n",
        "qiskit-quantuminspire @ git+https://github.com/QuTech-Delft/qiskit-quantuminspire@ad75dbcb54ba7e67970cd26b46f4f401f59f3c47\n",
        "quantuminspire @ git+https://github.com/QuTech-Delft/quantuminspire@338227905054e5377b8dccc0f952eab4bf07eb7f\n",
        "requests==2.32.3\n",
        "rich==14.0.0\n",
        "rustworkx==0.16.0\n",
        "scipy==1.15.3\n",
        "shellingham==1.5.4\n",
        "six==1.17.0\n",
        "stack-data==0.6.3\n",
        "stevedore==5.4.1\n",
        "symengine==0.13.0\n",
        "sympy==1.14.0\n",
        "tornado==6.5.1\n",
        "tox==4.26.0\n",
        "traitlets==5.14.3\n",
        "typer==0.16.0\n",
        "typing-inspection==0.4.1\n",
        "typing_extensions==4.14.0\n",
        "urllib3==2.4.0\n",
        "virtualenv==20.31.2\n",
        "wcwidth==0.2.13\n",
        "yarl==1.20.0\n"
      ]
    },
    {
      "cell_type": "code",
      "execution_count": 1,
      "metadata": {
        "colab": {
          "base_uri": "https://localhost:8080/"
        },
        "collapsed": true,
        "id": "pGbKMHgOXb_A",
        "outputId": "d6b055af-cb8d-4552-9d6b-c533e81dbe53"
      },
      "outputs": [
        {
          "name": "stderr",
          "output_type": "stream",
          "text": [
            "ERROR: Could not open requirements file: [Errno 2] No such file or directory: 'requirements.txt'\n"
          ]
        }
      ],
      "source": [
        "!pip install -r requirements.txt"
      ]
    },
    {
      "cell_type": "code",
      "execution_count": null,
      "metadata": {},
      "outputs": [],
      "source": [
        "# Alternatively, you can use the following command to install the requirements:\n",
        "# !pip install git+https://github.com/QuTech-Delft/quantuminspire\n",
        "# !pip install git+https://github.com/QuTech-Delft/qiskit-quantuminspire\n",
        "# !pip install matplotlib\n",
        "# !pip install pylatexenc"
      ]
    },
    {
      "cell_type": "markdown",
      "metadata": {
        "id": "GQzaYc8ZaxhQ"
      },
      "source": [
        "### Login to Quantum Inspire"
      ]
    },
    {
      "cell_type": "markdown",
      "metadata": {},
      "source": [
        "When you run the following cell, you will be prompted to log in to your Quantum Inpsire account. If you do not have an account, you can create one for free at https://quantuminspire.com."
      ]
    },
    {
      "cell_type": "code",
      "execution_count": 2,
      "metadata": {
        "colab": {
          "base_uri": "https://localhost:8080/"
        },
        "id": "W7sOBYtYR6OI",
        "outputId": "4ec8f438-1223-47a0-9244-faf87e58837b"
      },
      "outputs": [
        {
          "name": "stdout",
          "output_type": "stream",
          "text": [
            "Please continue logging in by opening: https://auth.quantum-inspire.com/activate?user_code=BKDB-JHBW in your browser\n",
            "If promped to verify a code, please confirm it is as follows: BKDB-JHBW\n",
            "Login successful!\n",
            "Using member ID 28\n"
          ]
        }
      ],
      "source": [
        "!qi login \"https://api.quantum-inspire.com\""
      ]
    },
    {
      "cell_type": "markdown",
      "metadata": {},
      "source": [
        "### Study the backend"
      ]
    },
    {
      "cell_type": "markdown",
      "metadata": {},
      "source": [
        "First we check which backends are available to us. The `get_backends` function returns a list of all backends that are available to you. You can use the `get_backend` function to get a specific backend by name."
      ]
    },
    {
      "cell_type": "code",
      "execution_count": 3,
      "metadata": {
        "colab": {
          "base_uri": "https://localhost:8080/"
        },
        "id": "6sYqiRvCRgkJ",
        "outputId": "8cab218b-0221-46a5-d199-0711c5d1d024"
      },
      "outputs": [
        {
          "data": {
            "text/plain": [
              "[<qiskit_quantuminspire.qi_backend.QIBackend object at 0x17bb0f48c50 (name=QX emulator, id=1)>,\n",
              " <qiskit_quantuminspire.qi_backend.QIBackend object at 0x17bafc6c0d0 (name=Spin-2+, id=2)>,\n",
              " <qiskit_quantuminspire.qi_backend.QIBackend object at 0x17bb2f8c1d0 (name=Starmon-7, id=3)>,\n",
              " <qiskit_quantuminspire.qi_backend.QIBackend object at 0x17bb1630750 (name=Tuna-5, id=4)>]"
            ]
          },
          "execution_count": 3,
          "metadata": {},
          "output_type": "execute_result"
        }
      ],
      "source": [
        "from qiskit import QuantumCircuit, transpile\n",
        "from qiskit_quantuminspire.qi_provider import QIProvider\n",
        "\n",
        "provider = QIProvider()\n",
        "provider.backends()"
      ]
    },
    {
      "cell_type": "code",
      "execution_count": 36,
      "metadata": {},
      "outputs": [],
      "source": [
        "backend_simulator = provider.get_backend(name=\"QX emulator\")\n",
        "backend = provider.get_backend(name=\"Starmon-7\")"
      ]
    },
    {
      "cell_type": "markdown",
      "metadata": {},
      "source": [
        "Get the description: "
      ]
    },
    {
      "cell_type": "code",
      "execution_count": 8,
      "metadata": {},
      "outputs": [
        {
          "name": "stdout",
          "output_type": "stream",
          "text": [
            "The Starmon-7 quantum processor consists of seven superconducting transmon qubits in an X configuration. Each transmon has up to seven ports: up to four bus resonators coupling to nearest neighbors, a microwave-control line for single-qubit gates, a flux-control line for two-qubit gates, and a readout resonator.\n"
          ]
        }
      ],
      "source": [
        "print(backend.description)"
      ]
    },
    {
      "cell_type": "markdown",
      "metadata": {},
      "source": [
        "Show the status: "
      ]
    },
    {
      "cell_type": "code",
      "execution_count": 9,
      "metadata": {},
      "outputs": [
        {
          "data": {
            "text/plain": [
              "<BackendStatus.IDLE: 'idle'>"
            ]
          },
          "execution_count": 9,
          "metadata": {},
          "output_type": "execute_result"
        }
      ],
      "source": [
        "backend.status"
      ]
    },
    {
      "cell_type": "markdown",
      "metadata": {},
      "source": [
        "If it is not `offline` or `calibrating`, we can use it to run our circuits."
      ]
    },
    {
      "cell_type": "markdown",
      "metadata": {},
      "source": [
        "Let's draw a map of the architecture of the backend. This will show us how the qubits are connected to each other. "
      ]
    },
    {
      "cell_type": "code",
      "execution_count": 10,
      "metadata": {},
      "outputs": [
        {
          "data": {
            "image/jpeg": "[encoded data removed]",
            "image/png": "[encoded data removed]",
            "text/plain": [
              "<PIL.PngImagePlugin.PngImageFile image mode=RGB size=391x247>"
            ]
          },
          "execution_count": 10,
          "metadata": {},
          "output_type": "execute_result"
        }
      ],
      "source": [
        "backend.coupling_map.draw()"
      ]
    },
    {
      "cell_type": "markdown",
      "metadata": {},
      "source": [
        "What type of instructions are supported by the backend? On which qubits can we run these instructions?"
      ]
    },
    {
      "cell_type": "code",
      "execution_count": 12,
      "metadata": {},
      "outputs": [
        {
          "data": {
            "text/plain": [
              "[(Instruction(name='y', num_qubits=1, num_clbits=0, params=[]), (0,)),\n",
              " (Instruction(name='y', num_qubits=1, num_clbits=0, params=[]), (1,)),\n",
              " (Instruction(name='y', num_qubits=1, num_clbits=0, params=[]), (2,)),\n",
              " (Instruction(name='y', num_qubits=1, num_clbits=0, params=[]), (3,)),\n",
              " (Instruction(name='y', num_qubits=1, num_clbits=0, params=[]), (4,)),\n",
              " (Instruction(name='y', num_qubits=1, num_clbits=0, params=[]), (5,)),\n",
              " (Instruction(name='y', num_qubits=1, num_clbits=0, params=[]), (6,)),\n",
              " (Instruction(name='measure', num_qubits=1, num_clbits=1, params=[]), (0,)),\n",
              " (Instruction(name='measure', num_qubits=1, num_clbits=1, params=[]), (1,)),\n",
              " (Instruction(name='measure', num_qubits=1, num_clbits=1, params=[]), (2,)),\n",
              " (Instruction(name='measure', num_qubits=1, num_clbits=1, params=[]), (3,)),\n",
              " (Instruction(name='measure', num_qubits=1, num_clbits=1, params=[]), (4,)),\n",
              " (Instruction(name='measure', num_qubits=1, num_clbits=1, params=[]), (5,)),\n",
              " (Instruction(name='measure', num_qubits=1, num_clbits=1, params=[]), (6,)),\n",
              " (Instruction(name='sdg', num_qubits=1, num_clbits=0, params=[]), (0,)),\n",
              " (Instruction(name='sdg', num_qubits=1, num_clbits=0, params=[]), (1,)),\n",
              " (Instruction(name='sdg', num_qubits=1, num_clbits=0, params=[]), (2,)),\n",
              " (Instruction(name='sdg', num_qubits=1, num_clbits=0, params=[]), (3,)),\n",
              " (Instruction(name='sdg', num_qubits=1, num_clbits=0, params=[]), (4,)),\n",
              " (Instruction(name='sdg', num_qubits=1, num_clbits=0, params=[]), (5,)),\n",
              " (Instruction(name='sdg', num_qubits=1, num_clbits=0, params=[]), (6,)),\n",
              " (Instruction(name='x', num_qubits=1, num_clbits=0, params=[]), (0,)),\n",
              " (Instruction(name='x', num_qubits=1, num_clbits=0, params=[]), (1,)),\n",
              " (Instruction(name='x', num_qubits=1, num_clbits=0, params=[]), (2,)),\n",
              " (Instruction(name='x', num_qubits=1, num_clbits=0, params=[]), (3,)),\n",
              " (Instruction(name='x', num_qubits=1, num_clbits=0, params=[]), (4,)),\n",
              " (Instruction(name='x', num_qubits=1, num_clbits=0, params=[]), (5,)),\n",
              " (Instruction(name='x', num_qubits=1, num_clbits=0, params=[]), (6,)),\n",
              " (Instruction(name='s', num_qubits=1, num_clbits=0, params=[]), (0,)),\n",
              " (Instruction(name='s', num_qubits=1, num_clbits=0, params=[]), (1,)),\n",
              " (Instruction(name='s', num_qubits=1, num_clbits=0, params=[]), (2,)),\n",
              " (Instruction(name='s', num_qubits=1, num_clbits=0, params=[]), (3,)),\n",
              " (Instruction(name='s', num_qubits=1, num_clbits=0, params=[]), (4,)),\n",
              " (Instruction(name='s', num_qubits=1, num_clbits=0, params=[]), (5,)),\n",
              " (Instruction(name='s', num_qubits=1, num_clbits=0, params=[]), (6,)),\n",
              " (Instruction(name='ry', num_qubits=1, num_clbits=0, params=[Parameter(ϴ)]),\n",
              "  (0,)),\n",
              " (Instruction(name='ry', num_qubits=1, num_clbits=0, params=[Parameter(ϴ)]),\n",
              "  (1,)),\n",
              " (Instruction(name='ry', num_qubits=1, num_clbits=0, params=[Parameter(ϴ)]),\n",
              "  (2,)),\n",
              " (Instruction(name='ry', num_qubits=1, num_clbits=0, params=[Parameter(ϴ)]),\n",
              "  (3,)),\n",
              " (Instruction(name='ry', num_qubits=1, num_clbits=0, params=[Parameter(ϴ)]),\n",
              "  (4,)),\n",
              " (Instruction(name='ry', num_qubits=1, num_clbits=0, params=[Parameter(ϴ)]),\n",
              "  (5,)),\n",
              " (Instruction(name='ry', num_qubits=1, num_clbits=0, params=[Parameter(ϴ)]),\n",
              "  (6,)),\n",
              " (Instruction(name='h', num_qubits=1, num_clbits=0, params=[]), (0,)),\n",
              " (Instruction(name='h', num_qubits=1, num_clbits=0, params=[]), (1,)),\n",
              " (Instruction(name='h', num_qubits=1, num_clbits=0, params=[]), (2,)),\n",
              " (Instruction(name='h', num_qubits=1, num_clbits=0, params=[]), (3,)),\n",
              " (Instruction(name='h', num_qubits=1, num_clbits=0, params=[]), (4,)),\n",
              " (Instruction(name='h', num_qubits=1, num_clbits=0, params=[]), (5,)),\n",
              " (Instruction(name='h', num_qubits=1, num_clbits=0, params=[]), (6,)),\n",
              " (Delay(duration=t[unit=dt]), (0,)),\n",
              " (Delay(duration=t[unit=dt]), (1,)),\n",
              " (Delay(duration=t[unit=dt]), (2,)),\n",
              " (Delay(duration=t[unit=dt]), (3,)),\n",
              " (Delay(duration=t[unit=dt]), (4,)),\n",
              " (Delay(duration=t[unit=dt]), (5,)),\n",
              " (Delay(duration=t[unit=dt]), (6,)),\n",
              " (Instruction(name='reset', num_qubits=1, num_clbits=0, params=[]), (0,)),\n",
              " (Instruction(name='reset', num_qubits=1, num_clbits=0, params=[]), (1,)),\n",
              " (Instruction(name='reset', num_qubits=1, num_clbits=0, params=[]), (2,)),\n",
              " (Instruction(name='reset', num_qubits=1, num_clbits=0, params=[]), (3,)),\n",
              " (Instruction(name='reset', num_qubits=1, num_clbits=0, params=[]), (4,)),\n",
              " (Instruction(name='reset', num_qubits=1, num_clbits=0, params=[]), (5,)),\n",
              " (Instruction(name='reset', num_qubits=1, num_clbits=0, params=[]), (6,)),\n",
              " (Instruction(name='rz', num_qubits=1, num_clbits=0, params=[Parameter(λ)]),\n",
              "  (0,)),\n",
              " (Instruction(name='rz', num_qubits=1, num_clbits=0, params=[Parameter(λ)]),\n",
              "  (1,)),\n",
              " (Instruction(name='rz', num_qubits=1, num_clbits=0, params=[Parameter(λ)]),\n",
              "  (2,)),\n",
              " (Instruction(name='rz', num_qubits=1, num_clbits=0, params=[Parameter(λ)]),\n",
              "  (3,)),\n",
              " (Instruction(name='rz', num_qubits=1, num_clbits=0, params=[Parameter(λ)]),\n",
              "  (4,)),\n",
              " (Instruction(name='rz', num_qubits=1, num_clbits=0, params=[Parameter(λ)]),\n",
              "  (5,)),\n",
              " (Instruction(name='rz', num_qubits=1, num_clbits=0, params=[Parameter(λ)]),\n",
              "  (6,)),\n",
              " (Instruction(name='t', num_qubits=1, num_clbits=0, params=[]), (0,)),\n",
              " (Instruction(name='t', num_qubits=1, num_clbits=0, params=[]), (1,)),\n",
              " (Instruction(name='t', num_qubits=1, num_clbits=0, params=[]), (2,)),\n",
              " (Instruction(name='t', num_qubits=1, num_clbits=0, params=[]), (3,)),\n",
              " (Instruction(name='t', num_qubits=1, num_clbits=0, params=[]), (4,)),\n",
              " (Instruction(name='t', num_qubits=1, num_clbits=0, params=[]), (5,)),\n",
              " (Instruction(name='t', num_qubits=1, num_clbits=0, params=[]), (6,)),\n",
              " (Instruction(name='id', num_qubits=1, num_clbits=0, params=[]), (0,)),\n",
              " (Instruction(name='id', num_qubits=1, num_clbits=0, params=[]), (1,)),\n",
              " (Instruction(name='id', num_qubits=1, num_clbits=0, params=[]), (2,)),\n",
              " (Instruction(name='id', num_qubits=1, num_clbits=0, params=[]), (3,)),\n",
              " (Instruction(name='id', num_qubits=1, num_clbits=0, params=[]), (4,)),\n",
              " (Instruction(name='id', num_qubits=1, num_clbits=0, params=[]), (5,)),\n",
              " (Instruction(name='id', num_qubits=1, num_clbits=0, params=[]), (6,)),\n",
              " (Instruction(name='rx', num_qubits=1, num_clbits=0, params=[Parameter(ϴ)]),\n",
              "  (0,)),\n",
              " (Instruction(name='rx', num_qubits=1, num_clbits=0, params=[Parameter(ϴ)]),\n",
              "  (1,)),\n",
              " (Instruction(name='rx', num_qubits=1, num_clbits=0, params=[Parameter(ϴ)]),\n",
              "  (2,)),\n",
              " (Instruction(name='rx', num_qubits=1, num_clbits=0, params=[Parameter(ϴ)]),\n",
              "  (3,)),\n",
              " (Instruction(name='rx', num_qubits=1, num_clbits=0, params=[Parameter(ϴ)]),\n",
              "  (4,)),\n",
              " (Instruction(name='rx', num_qubits=1, num_clbits=0, params=[Parameter(ϴ)]),\n",
              "  (5,)),\n",
              " (Instruction(name='rx', num_qubits=1, num_clbits=0, params=[Parameter(ϴ)]),\n",
              "  (6,)),\n",
              " (Instruction(name='tdg', num_qubits=1, num_clbits=0, params=[]), (0,)),\n",
              " (Instruction(name='tdg', num_qubits=1, num_clbits=0, params=[]), (1,)),\n",
              " (Instruction(name='tdg', num_qubits=1, num_clbits=0, params=[]), (2,)),\n",
              " (Instruction(name='tdg', num_qubits=1, num_clbits=0, params=[]), (3,)),\n",
              " (Instruction(name='tdg', num_qubits=1, num_clbits=0, params=[]), (4,)),\n",
              " (Instruction(name='tdg', num_qubits=1, num_clbits=0, params=[]), (5,)),\n",
              " (Instruction(name='tdg', num_qubits=1, num_clbits=0, params=[]), (6,)),\n",
              " (Instruction(name='z', num_qubits=1, num_clbits=0, params=[]), (0,)),\n",
              " (Instruction(name='z', num_qubits=1, num_clbits=0, params=[]), (1,)),\n",
              " (Instruction(name='z', num_qubits=1, num_clbits=0, params=[]), (2,)),\n",
              " (Instruction(name='z', num_qubits=1, num_clbits=0, params=[]), (3,)),\n",
              " (Instruction(name='z', num_qubits=1, num_clbits=0, params=[]), (4,)),\n",
              " (Instruction(name='z', num_qubits=1, num_clbits=0, params=[]), (5,)),\n",
              " (Instruction(name='z', num_qubits=1, num_clbits=0, params=[]), (6,)),\n",
              " (Instruction(name='swap', num_qubits=2, num_clbits=0, params=[]), (0, 2)),\n",
              " (Instruction(name='swap', num_qubits=2, num_clbits=0, params=[]), (2, 0)),\n",
              " (Instruction(name='swap', num_qubits=2, num_clbits=0, params=[]), (0, 3)),\n",
              " (Instruction(name='swap', num_qubits=2, num_clbits=0, params=[]), (3, 0)),\n",
              " (Instruction(name='swap', num_qubits=2, num_clbits=0, params=[]), (1, 3)),\n",
              " (Instruction(name='swap', num_qubits=2, num_clbits=0, params=[]), (3, 1)),\n",
              " (Instruction(name='swap', num_qubits=2, num_clbits=0, params=[]), (1, 4)),\n",
              " (Instruction(name='swap', num_qubits=2, num_clbits=0, params=[]), (4, 1)),\n",
              " (Instruction(name='swap', num_qubits=2, num_clbits=0, params=[]), (2, 5)),\n",
              " (Instruction(name='swap', num_qubits=2, num_clbits=0, params=[]), (5, 2)),\n",
              " (Instruction(name='swap', num_qubits=2, num_clbits=0, params=[]), (3, 5)),\n",
              " (Instruction(name='swap', num_qubits=2, num_clbits=0, params=[]), (5, 3)),\n",
              " (Instruction(name='swap', num_qubits=2, num_clbits=0, params=[]), (3, 6)),\n",
              " (Instruction(name='swap', num_qubits=2, num_clbits=0, params=[]), (6, 3)),\n",
              " (Instruction(name='swap', num_qubits=2, num_clbits=0, params=[]), (4, 6)),\n",
              " (Instruction(name='swap', num_qubits=2, num_clbits=0, params=[]), (6, 4)),\n",
              " (Instruction(name='cz', num_qubits=2, num_clbits=0, params=[]), (0, 2)),\n",
              " (Instruction(name='cz', num_qubits=2, num_clbits=0, params=[]), (2, 0)),\n",
              " (Instruction(name='cz', num_qubits=2, num_clbits=0, params=[]), (0, 3)),\n",
              " (Instruction(name='cz', num_qubits=2, num_clbits=0, params=[]), (3, 0)),\n",
              " (Instruction(name='cz', num_qubits=2, num_clbits=0, params=[]), (1, 3)),\n",
              " (Instruction(name='cz', num_qubits=2, num_clbits=0, params=[]), (3, 1)),\n",
              " (Instruction(name='cz', num_qubits=2, num_clbits=0, params=[]), (1, 4)),\n",
              " (Instruction(name='cz', num_qubits=2, num_clbits=0, params=[]), (4, 1)),\n",
              " (Instruction(name='cz', num_qubits=2, num_clbits=0, params=[]), (2, 5)),\n",
              " (Instruction(name='cz', num_qubits=2, num_clbits=0, params=[]), (5, 2)),\n",
              " (Instruction(name='cz', num_qubits=2, num_clbits=0, params=[]), (3, 5)),\n",
              " (Instruction(name='cz', num_qubits=2, num_clbits=0, params=[]), (5, 3)),\n",
              " (Instruction(name='cz', num_qubits=2, num_clbits=0, params=[]), (3, 6)),\n",
              " (Instruction(name='cz', num_qubits=2, num_clbits=0, params=[]), (6, 3)),\n",
              " (Instruction(name='cz', num_qubits=2, num_clbits=0, params=[]), (4, 6)),\n",
              " (Instruction(name='cz', num_qubits=2, num_clbits=0, params=[]), (6, 4)),\n",
              " (Instruction(name='cx', num_qubits=2, num_clbits=0, params=[]), (0, 2)),\n",
              " (Instruction(name='cx', num_qubits=2, num_clbits=0, params=[]), (2, 0)),\n",
              " (Instruction(name='cx', num_qubits=2, num_clbits=0, params=[]), (0, 3)),\n",
              " (Instruction(name='cx', num_qubits=2, num_clbits=0, params=[]), (3, 0)),\n",
              " (Instruction(name='cx', num_qubits=2, num_clbits=0, params=[]), (1, 3)),\n",
              " (Instruction(name='cx', num_qubits=2, num_clbits=0, params=[]), (3, 1)),\n",
              " (Instruction(name='cx', num_qubits=2, num_clbits=0, params=[]), (1, 4)),\n",
              " (Instruction(name='cx', num_qubits=2, num_clbits=0, params=[]), (4, 1)),\n",
              " (Instruction(name='cx', num_qubits=2, num_clbits=0, params=[]), (2, 5)),\n",
              " (Instruction(name='cx', num_qubits=2, num_clbits=0, params=[]), (5, 2)),\n",
              " (Instruction(name='cx', num_qubits=2, num_clbits=0, params=[]), (3, 5)),\n",
              " (Instruction(name='cx', num_qubits=2, num_clbits=0, params=[]), (5, 3)),\n",
              " (Instruction(name='cx', num_qubits=2, num_clbits=0, params=[]), (3, 6)),\n",
              " (Instruction(name='cx', num_qubits=2, num_clbits=0, params=[]), (6, 3)),\n",
              " (Instruction(name='cx', num_qubits=2, num_clbits=0, params=[]), (4, 6)),\n",
              " (Instruction(name='cx', num_qubits=2, num_clbits=0, params=[]), (6, 4)),\n",
              " (Instruction(name='cp', num_qubits=2, num_clbits=0, params=[Parameter(ϴ)]),\n",
              "  (0, 2)),\n",
              " (Instruction(name='cp', num_qubits=2, num_clbits=0, params=[Parameter(ϴ)]),\n",
              "  (2, 0)),\n",
              " (Instruction(name='cp', num_qubits=2, num_clbits=0, params=[Parameter(ϴ)]),\n",
              "  (0, 3)),\n",
              " (Instruction(name='cp', num_qubits=2, num_clbits=0, params=[Parameter(ϴ)]),\n",
              "  (3, 0)),\n",
              " (Instruction(name='cp', num_qubits=2, num_clbits=0, params=[Parameter(ϴ)]),\n",
              "  (1, 3)),\n",
              " (Instruction(name='cp', num_qubits=2, num_clbits=0, params=[Parameter(ϴ)]),\n",
              "  (3, 1)),\n",
              " (Instruction(name='cp', num_qubits=2, num_clbits=0, params=[Parameter(ϴ)]),\n",
              "  (1, 4)),\n",
              " (Instruction(name='cp', num_qubits=2, num_clbits=0, params=[Parameter(ϴ)]),\n",
              "  (4, 1)),\n",
              " (Instruction(name='cp', num_qubits=2, num_clbits=0, params=[Parameter(ϴ)]),\n",
              "  (2, 5)),\n",
              " (Instruction(name='cp', num_qubits=2, num_clbits=0, params=[Parameter(ϴ)]),\n",
              "  (5, 2)),\n",
              " (Instruction(name='cp', num_qubits=2, num_clbits=0, params=[Parameter(ϴ)]),\n",
              "  (3, 5)),\n",
              " (Instruction(name='cp', num_qubits=2, num_clbits=0, params=[Parameter(ϴ)]),\n",
              "  (5, 3)),\n",
              " (Instruction(name='cp', num_qubits=2, num_clbits=0, params=[Parameter(ϴ)]),\n",
              "  (3, 6)),\n",
              " (Instruction(name='cp', num_qubits=2, num_clbits=0, params=[Parameter(ϴ)]),\n",
              "  (6, 3)),\n",
              " (Instruction(name='cp', num_qubits=2, num_clbits=0, params=[Parameter(ϴ)]),\n",
              "  (4, 6)),\n",
              " (Instruction(name='cp', num_qubits=2, num_clbits=0, params=[Parameter(ϴ)]),\n",
              "  (6, 4))]"
            ]
          },
          "execution_count": 12,
          "metadata": {},
          "output_type": "execute_result"
        }
      ],
      "source": [
        "backend.instructions"
      ]
    },
    {
      "cell_type": "markdown",
      "metadata": {},
      "source": [
        "We usually run a circuit multiple times to get a good estimate of the results. This is called the number of shots. The more shots we run, the more accurate our results will be, but it will also take longer to run the circuit. "
      ]
    },
    {
      "cell_type": "code",
      "execution_count": 13,
      "metadata": {},
      "outputs": [
        {
          "data": {
            "text/plain": [
              "19192"
            ]
          },
          "execution_count": 13,
          "metadata": {},
          "output_type": "execute_result"
        }
      ],
      "source": [
        "backend.max_shots"
      ]
    },
    {
      "cell_type": "markdown",
      "metadata": {},
      "source": [
        "### Make the circuit"
      ]
    },
    {
      "cell_type": "code",
      "execution_count": 33,
      "metadata": {},
      "outputs": [
        {
          "data": {
            "image/png": "[encoded data removed]",
            "text/plain": [
              "<Figure size 454.517x284.278 with 1 Axes>"
            ]
          },
          "execution_count": 33,
          "metadata": {},
          "output_type": "execute_result"
        }
      ],
      "source": [
        "qubit_0 = 1 # 3\n",
        "qubit_1 = 0 # 6\n",
        "\n",
        "qc = QuantumCircuit(2, 2)\n",
        "\n",
        "qc.h(qubit_0)\n",
        "qc.cx(qubit_0, qubit_1)\n",
        "qc.measure(qubit_0, cbit=0)\n",
        "qc.measure(qubit_1, cbit=1)\n",
        "\n",
        "qc.draw('mpl')"
      ]
    },
    {
      "cell_type": "markdown",
      "metadata": {},
      "source": [
        "Let's now run a simple circuit on the backend. We will create a circuit with two qubits, apply a Hadamard gate to the first qubit, and then measure both qubits. Notice that the following code only depends on `qiskit`, not on the specific Quantum Inspire backend. "
      ]
    },
    {
      "cell_type": "code",
      "execution_count": 50,
      "metadata": {
        "colab": {
          "base_uri": "https://localhost:8080/"
        },
        "id": "xBNUSXesRwgg",
        "outputId": "f584887e-3806-4201-b378-9e477d3ffba0"
      },
      "outputs": [
        {
          "data": {
            "text/plain": [
              "<qiskit.circuit.instructionset.InstructionSet at 0x17bb5579450>"
            ]
          },
          "execution_count": 50,
          "metadata": {},
          "output_type": "execute_result"
        }
      ],
      "source": [
        "qubit_0 = 3\n",
        "qubit_1 = 6\n",
        "\n",
        "qc = QuantumCircuit(7, 2)\n",
        "\n",
        "qc.h(qubit_0)\n",
        "qc.cx(qubit_0, qubit_1)\n",
        "qc.delay(10000)\n",
        "qc.measure(qubit_0, cbit=0)\n",
        "qc.measure(qubit_1, cbit=1)"
      ]
    },
    {
      "cell_type": "code",
      "execution_count": 51,
      "metadata": {
        "colab": {
          "base_uri": "https://localhost:8080/",
          "height": 449
        },
        "id": "7iNtwL4MRxh4",
        "outputId": "1d47b71f-b588-4466-f234-e077a67a4b8d"
      },
      "outputs": [
        {
          "data": {
            "image/png": "[encoded data removed]",
            "text/plain": [
              "<Figure size 705.552x702.333 with 1 Axes>"
            ]
          },
          "execution_count": 51,
          "metadata": {},
          "output_type": "execute_result"
        }
      ],
      "source": [
        "qc.draw('mpl')"
      ]
    },
    {
      "cell_type": "markdown",
      "metadata": {},
      "source": [
        "### Run the circuit"
      ]
    },
    {
      "cell_type": "code",
      "execution_count": 52,
      "metadata": {
        "colab": {
          "base_uri": "https://localhost:8080/"
        },
        "id": "yJmk7AaXbUcx",
        "outputId": "af5d0f59-b1c5-491f-e8b6-a92fadef596e"
      },
      "outputs": [],
      "source": [
        "nr_shots = backend.max_shots\n",
        "job = backend.run(qc, shots=nr_shots)\n",
        "result = job.result(timeout = 600)"
      ]
    },
    {
      "cell_type": "markdown",
      "metadata": {},
      "source": [
        "### Obtain and visualize the results"
      ]
    },
    {
      "cell_type": "code",
      "execution_count": 53,
      "metadata": {
        "colab": {
          "base_uri": "https://localhost:8080/"
        },
        "id": "-Rdgum7GfNM4",
        "outputId": "c48828bf-7a86-498d-df9b-bdc2b4d4e9e3"
      },
      "outputs": [
        {
          "data": {
            "text/plain": [
              "Result(backend_name='Starmon-7', backend_version='1.0.0', qobj_id='', job_id='80156', success=True, results=[ExperimentResult(shots=19192, success=True, meas_level=2, data=ExperimentResultData(counts={'0x0': 18352, '0x1': 346, '0x2': 481, '0x3': 13}), header=QobjExperimentHeader(name='circuit-166', memory_slots=2), status=Experiment successful)], date=None, status=Result successful, header=None, system_messages={})"
            ]
          },
          "execution_count": 53,
          "metadata": {},
          "output_type": "execute_result"
        }
      ],
      "source": [
        "result"
      ]
    },
    {
      "cell_type": "code",
      "execution_count": 54,
      "metadata": {
        "colab": {
          "base_uri": "https://localhost:8080/",
          "height": 431
        },
        "id": "mOD-XitzbhtA",
        "outputId": "34946919-43c9-4990-a734-2a67d7cb0e81"
      },
      "outputs": [
        {
          "data": {
            "image/png": "[encoded data removed]",
            "text/plain": [
              "<Figure size 600x400 with 1 Axes>"
            ]
          },
          "metadata": {},
          "output_type": "display_data"
        }
      ],
      "source": [
        "counts = result.results[0].data.counts\n",
        "\n",
        "import matplotlib.pyplot as plt\n",
        "fig, ax = plt.subplots(figsize=(6, 4))\n",
        "\n",
        "for bit_string in counts:\n",
        "    ax.bar(bit_string, counts[bit_string] / nr_shots, color='orange')\n",
        "\n",
        "ax.set_xlabel(\"Bit-strings\")\n",
        "ax.set_ylabel(\"Probabilities\")\n",
        "ax.set_title(f\"Results of {qc.name} on {backend.name} with {nr_shots} shots\")\n",
        "\n",
        "ax.set_ylim(0.0, 1.05)\n",
        "\n",
        "plt.grid(axis='y')\n",
        "plt.show()"
      ]
    },
    {
      "cell_type": "markdown",
      "metadata": {},
      "source": [
        "## Transpilation"
      ]
    },
    {
      "cell_type": "markdown",
      "metadata": {
        "id": "fOZqJ08_fm3x"
      },
      "source": [
        "In order to run the above circuit, we will need to transpile it.\n"
      ]
    },
    {
      "cell_type": "code",
      "execution_count": null,
      "metadata": {
        "id": "kKmVyij8fpDY"
      },
      "outputs": [
        {
          "data": {
            "image/png": "[encoded data removed]",
            "text/plain": [
              "<Figure size 507.401x702.333 with 1 Axes>"
            ]
          },
          "execution_count": 29,
          "metadata": {},
          "output_type": "execute_result"
        }
      ],
      "source": [
        "qc_transpiled = transpile(qc, backend)\n",
        "# we could also set the\n",
        "# - initial_layout\n",
        "# - optimization_level\n",
        "# - coupling_map\n",
        "\n",
        "qc_transpiled.draw('mpl')"
      ]
    },
    {
      "cell_type": "markdown",
      "metadata": {
        "id": "h4-8KnpfftUJ"
      },
      "source": [
        "Study the result"
      ]
    },
    {
      "cell_type": "code",
      "execution_count": null,
      "metadata": {},
      "outputs": [],
      "source": [
        "qc = qc_transpiled"
      ]
    },
    {
      "cell_type": "markdown",
      "metadata": {},
      "source": [
        "## The BBM92 protocol"
      ]
    },
    {
      "cell_type": "code",
      "execution_count": null,
      "metadata": {},
      "outputs": [
        {
          "name": "stdout",
          "output_type": "stream",
          "text": [
            "=== BBM92 - 5 rounds in one circuit ===\n",
            "Alice bases: ['X', 'Z', 'Z', 'X', 'X']\n",
            "Bob bases:   ['Z', 'Z', 'Z', 'Z', 'Z']\n",
            "Alice raw:   [0, 1, 0, 0, 1]\n",
            "Bob raw:     [1, 1, 0, 0, 1]\n",
            "Sifted key (Alice): [1, 0]\n",
            "Sifted key (Bob):   [1, 0]\n",
            "QBER: 0.00%\n"
          ]
        }
      ],
      "source": [
        "import random\n",
        "num_rounds = 5\n"
      ]
    },
    {
      "cell_type": "markdown",
      "metadata": {},
      "source": [
        "Randomly choose measurement bases for each round"
      ]
    },
    {
      "cell_type": "code",
      "execution_count": null,
      "metadata": {},
      "outputs": [],
      "source": [
        "alice_bases = [random.choice(['Z', 'X']) for _ in range(num_rounds)]\n",
        "bob_bases   = [random.choice(['Z', 'X']) for _ in range(num_rounds)]"
      ]
    },
    {
      "cell_type": "markdown",
      "metadata": {},
      "source": [
        "We need $2$ times the number of rounds as qubits. Let's create a circuit with 10 qubits (5 pairs) and 10 classical bits"
      ]
    },
    {
      "cell_type": "code",
      "execution_count": 38,
      "metadata": {},
      "outputs": [],
      "source": [
        "qc = QuantumCircuit(2 * num_rounds, 2 * num_rounds)"
      ]
    },
    {
      "cell_type": "markdown",
      "metadata": {},
      "source": [
        "We construct the cicuit as follows:"
      ]
    },
    {
      "cell_type": "code",
      "execution_count": null,
      "metadata": {},
      "outputs": [],
      "source": [
        "for i in range(num_rounds):\n",
        "    a_qubit = 2 * i     # Alice's qubit\n",
        "    b_qubit = 2 * i + 1 # Bob's qubit\n",
        "\n",
        "    # Step 1: Prepare Bell state |Φ⁺⟩ = (|00⟩ + |11⟩)/√2\n",
        "    qc.h(a_qubit)\n",
        "    qc.cx(a_qubit, b_qubit)\n",
        "\n",
        "    # Step 2a: Apply basis for Alice\n",
        "    if alice_bases[i] == 'X':\n",
        "        qc.h(a_qubit)\n",
        "    \n",
        "    # Step 2b: Apply basis for Bob\n",
        "    if bob_bases[i] == 'X':\n",
        "        qc.h(b_qubit)\n",
        "\n",
        "    # Step 3: Measure!\n",
        "    qc.measure(a_qubit, a_qubit)\n",
        "    qc.measure(b_qubit, b_qubit)"
      ]
    },
    {
      "cell_type": "markdown",
      "metadata": {},
      "source": [
        "Now we run the circuit. "
      ]
    },
    {
      "cell_type": "code",
      "execution_count": null,
      "metadata": {},
      "outputs": [],
      "source": [
        "job = backend_simulator.run(qc, shots=1, memory=True)\n",
        "bits = job.result().get_memory()[0]  # Bitstring like '0100110101'\n",
        "bits = bits[::-1]  # Reverse bit order (Qiskit qubit 0 is rightmost)\n",
        "alice_raw = [int(bits[2*i]) for i in range(num_rounds)]\n",
        "bob_raw   = [int(bits[2*i+1]) for i in range(num_rounds)]"
      ]
    },
    {
      "cell_type": "markdown",
      "metadata": {},
      "source": [
        "Some post-processing, sifting the keys. "
      ]
    },
    {
      "cell_type": "code",
      "execution_count": null,
      "metadata": {},
      "outputs": [],
      "source": [
        "sifted_alice = []\n",
        "sifted_bob = []\n",
        "for i in range(num_rounds):\n",
        "    if alice_bases[i] == bob_bases[i]:\n",
        "        sifted_alice.append(alice_raw[i])\n",
        "        sifted_bob.append(bob_raw[i])\n"
      ]
    },
    {
      "cell_type": "markdown",
      "metadata": {},
      "source": [
        "We estimate QBER (qubit error rate) from all matched bits."
      ]
    },
    {
      "cell_type": "code",
      "execution_count": null,
      "metadata": {},
      "outputs": [],
      "source": [
        "errors = sum(1 for a, b in zip(sifted_alice, sifted_bob) if a != b)\n",
        "qber = errors / len(sifted_alice) if sifted_alice else 0\n"
      ]
    },
    {
      "cell_type": "markdown",
      "metadata": {},
      "source": [
        "We display the results. "
      ]
    },
    {
      "cell_type": "code",
      "execution_count": null,
      "metadata": {},
      "outputs": [],
      "source": [
        "print(\"=== BBM92 - 5 rounds in one circuit ===\")\n",
        "print(\"Alice bases:\", alice_bases)\n",
        "print(\"Bob bases:  \", bob_bases)\n",
        "print(\"Alice raw:  \", alice_raw)\n",
        "print(\"Bob raw:    \", bob_raw)\n",
        "print(\"Sifted key (Alice):\", sifted_alice)\n",
        "print(\"Sifted key (Bob):  \", sifted_bob)\n",
        "print(f\"QBER: {qber:.2%}\")\n"
      ]
    },
    {
      "cell_type": "markdown",
      "metadata": {},
      "source": [
        "Some privacy amplification?"
      ]
    },
    {
      "cell_type": "markdown",
      "metadata": {},
      "source": [
        "## The BB84 Protocol\n"
      ]
    },
    {
      "cell_type": "markdown",
      "metadata": {},
      "source": [
        "For the BB84 protocol, we will use the simulator backend, so that we can use more qubits. "
      ]
    },
    {
      "cell_type": "code",
      "execution_count": null,
      "metadata": {},
      "outputs": [],
      "source": [
        "n = 10"
      ]
    },
    {
      "cell_type": "markdown",
      "metadata": {},
      "source": [
        "### Step 1: Alice prepares random bits and bases"
      ]
    },
    {
      "cell_type": "code",
      "execution_count": null,
      "metadata": {},
      "outputs": [],
      "source": [
        "from random import random\n",
        "rand_bit = lambda: 1 if random() > .5 else 0\n",
        "rand_bits = lambda n: [rand_bit() for _ in range(n)]\n",
        "\n",
        "alice_bits = rand_bits(n)\n",
        "alice_bases = rand_bits(n)"
      ]
    },
    {
      "cell_type": "markdown",
      "metadata": {},
      "source": [
        "### Step 2: Alice encodes qubits"
      ]
    },
    {
      "cell_type": "code",
      "execution_count": null,
      "metadata": {},
      "outputs": [],
      "source": [
        "alice_qubits = []\n",
        "for bit, basis in zip(alice_bits, alice_bases):\n",
        "    qc = QuantumCircuit(1, 1)\n",
        "    if bit == 1:\n",
        "        qc.x(0)\n",
        "    if basis == 1:\n",
        "        qc.h(0)\n",
        "    alice_qubits.append(qc)"
      ]
    },
    {
      "cell_type": "markdown",
      "metadata": {},
      "source": [
        "### Step 3: Bob chooses random bases and measures"
      ]
    },
    {
      "cell_type": "code",
      "execution_count": null,
      "metadata": {},
      "outputs": [],
      "source": [
        "..."
      ]
    },
    {
      "cell_type": "markdown",
      "metadata": {},
      "source": [
        "### Step 4: Alice and Bob publicly compare bases"
      ]
    },
    {
      "cell_type": "code",
      "execution_count": null,
      "metadata": {},
      "outputs": [],
      "source": [
        "..."
      ]
    },
    {
      "cell_type": "markdown",
      "metadata": {},
      "source": [
        "### Step 5: Sift key"
      ]
    },
    {
      "cell_type": "code",
      "execution_count": null,
      "metadata": {},
      "outputs": [],
      "source": [
        "..."
      ]
    },
    {
      "cell_type": "markdown",
      "metadata": {},
      "source": [
        "### Step 6: Eavesdropping check"
      ]
    },
    {
      "cell_type": "code",
      "execution_count": null,
      "metadata": {},
      "outputs": [],
      "source": [
        "..."
      ]
    },
    {
      "cell_type": "markdown",
      "metadata": {},
      "source": [
        "### Step 7: Privacy amplification"
      ]
    },
    {
      "cell_type": "code",
      "execution_count": null,
      "metadata": {},
      "outputs": [],
      "source": [
        "..."
      ]
    },
    {
      "cell_type": "markdown",
      "metadata": {},
      "source": [
        "## The E91 protocol"
      ]
    },
    {
      "cell_type": "code",
      "execution_count": null,
      "metadata": {},
      "outputs": [],
      "source": [
        "..."
      ]
    }
  ],
  "metadata": {
    "colab": {
      "provenance": []
    },
    "kernelspec": {
      "display_name": ".venv",
      "language": "python",
      "name": "python3"
    },
    "language_info": {
      "codemirror_mode": {
        "name": "ipython",
        "version": 3
      },
      "file_extension": ".py",
      "mimetype": "text/x-python",
      "name": "python",
      "nbconvert_exporter": "python",
      "pygments_lexer": "ipython3",
      "version": "3.11.5"
    }
  },
  "nbformat": 4,
  "nbformat_minor": 0
}

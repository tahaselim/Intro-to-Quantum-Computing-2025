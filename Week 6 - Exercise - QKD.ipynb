{
 "cells": [
  {
   "cell_type": "markdown",
   "metadata": {},
   "source": [
    "# Introduction into Quantum Computing\n",
    "\n",
    "Welcome to the exercise on Quantum Key Distribution. The exercise consists of an implementation of the BB84 protocol, discussed during the lesson, using Qiskit. Your implementation must cover all the steps discussed during the lesson, Please, refer to the slides of the lesson for a detailed explanation of the protocol.\n",
    "\n",
    "There are several ways of performing this implementation, but you will keep it simple, by writing small functions/procedures performing the different steps of the protocol. If you feel more confident about your programming/software engineering skills, then you can design your solution in a more complex way.\n",
    "\n",
    "In any case, use this notebook as a general guideline. Do not think of it as a fixed framework for you to work. Feel free to adjust it at your convenience, as long as it successfully implements the requested task."
   ]
  },
  {
   "cell_type": "code",
   "execution_count": null,
   "metadata": {},
   "outputs": [],
   "source": [
    "# Use this cell to import the proper libraries for your solution\n",
    "\n",
    "\n"
   ]
  },
  {
   "cell_type": "markdown",
   "metadata": {},
   "source": [
    "## Exercise 1\n",
    "Write a function to perform the first step in the protocol:\n",
    "\n",
    "* Alice randomly chooses a basis $B_{i} \\in \\left\\lbrace X,\\,Z \\right\\rbrace$; and, randomly and privately picks a bit $b_{i} \\in \\left\\lbrace 0,\\,1 \\right\\rbrace$"
   ]
  },
  {
   "cell_type": "code",
   "execution_count": null,
   "metadata": {},
   "outputs": [],
   "source": [
    "# Use this cell to implement your solution\n",
    "\n",
    "\n"
   ]
  },
  {
   "cell_type": "markdown",
   "metadata": {},
   "source": [
    "## Exercise 2\n",
    "Write a funcrtion to perform the second step in the protocol:\n",
    "\n",
    "* Alice prepares a qubit $\\ket{q_{i}}$ according to:\n",
    "\n",
    "| $B_{i}$ | $b_{i}$ | $\\ket{\\psi_{i}}$ |\n",
    "| :- | - | - |\n",
    "| $Z$ | $0$ | $\\ket{0}$ |\n",
    "| $Z$ | $1$ | $\\ket{1}$ |\n",
    "| $X$ | $0$ | $\\ket{+}$ |\n",
    "| $X$ | $1$ | $\\ket{0}$ |\n",
    "\n",
    "\n"
   ]
  },
  {
   "cell_type": "code",
   "execution_count": null,
   "metadata": {},
   "outputs": [],
   "source": [
    "# Use this cell to implement your solution\n",
    "\n",
    "\n"
   ]
  },
  {
   "cell_type": "markdown",
   "metadata": {},
   "source": [
    "## Exercise 3\n",
    "Ask the user to enter the number of qubits that Alice and Bob will exchange.\n",
    "\n",
    "This is not a step in the protocol, but it will be helpful to know in advance how many qubits Alice and Bob will use for the protocol."
   ]
  },
  {
   "cell_type": "code",
   "execution_count": 1,
   "metadata": {},
   "outputs": [],
   "source": [
    "# Use this cell to implement your solution\n",
    "\n",
    "\n"
   ]
  },
  {
   "cell_type": "markdown",
   "metadata": {},
   "source": [
    "## Exercise 4\n",
    "Write a function to perform the third step in the protocol:\n",
    "\n",
    "* Alice sends the resulting qubit $\\ket{q_{i}}$ to Bob.\n",
    "\n",
    "`Note:` Remember that these steps should be repeated a large number of times; hence, depending on your desired implementation, this exercise could be the preparation of all the qubits that Alice and Bob agreed to send."
   ]
  },
  {
   "cell_type": "code",
   "execution_count": null,
   "metadata": {},
   "outputs": [],
   "source": [
    "# Use this cell to implement your solution\n",
    "\n",
    "\n"
   ]
  },
  {
   "cell_type": "markdown",
   "metadata": {},
   "source": [
    "## Exercise 5\n",
    "Write a function to perform the fourth step in the protocol:\n",
    "\n",
    "* Bob measures qubit $\\ket{q_{i}}$ in a basis $\\widetilde{B_{i}} \\in \\left\\lbrace X,\\,Z \\right\\rbrace$ that he picks randomly. He privately records the measurement outcome $m_{i}$\n",
    "\n",
    "`Note:` Also here, this implementation could involve the measurement of the whole array that Alice sent in the previous step."
   ]
  },
  {
   "cell_type": "code",
   "execution_count": null,
   "metadata": {},
   "outputs": [],
   "source": [
    "# Use this cell to implement your solution\n",
    "\n",
    "\n"
   ]
  },
  {
   "cell_type": "markdown",
   "metadata": {},
   "source": [
    "## Exercise 6\n",
    "Write a function to perform the fifth step in the protocol:\n",
    "\n",
    "* Alice and Bob repeat the previous steps a large number of times ($N$)\n",
    "\n",
    "`Note:` As before, depending of your desired implementation, this step could have already been done in the previous exercises. If not, then do the implementation here."
   ]
  },
  {
   "cell_type": "code",
   "execution_count": null,
   "metadata": {},
   "outputs": [],
   "source": [
    "# Use this cell to implement your solution\n",
    "\n",
    "\n"
   ]
  },
  {
   "cell_type": "markdown",
   "metadata": {},
   "source": [
    "## Exercise 7\n",
    "Write two functions (one for Alice and one for Bob) to perform the sixth step in the protocol:\n",
    "\n",
    "* Alice and Bob publicly announce the $N$ bases they have each used. Importantly, Alice does not reveal her $b_{i}$ nor does Bob reveal his $m_{i}$"
   ]
  },
  {
   "cell_type": "code",
   "execution_count": null,
   "metadata": {},
   "outputs": [],
   "source": [
    "# Use this cell to implement your solution\n",
    "\n",
    "\n"
   ]
  },
  {
   "cell_type": "markdown",
   "metadata": {},
   "source": [
    "## Exercise 8\n",
    "Write a function to perform the seventh step in the protocol:\n",
    "\n",
    "* Alice and Bob sift out the $M \\leq N$ runs in which they used the same basis ($B_{i} = \\widetilde{B_{i}}$) and throw away the rest."
   ]
  },
  {
   "cell_type": "code",
   "execution_count": null,
   "metadata": {},
   "outputs": [],
   "source": [
    "# Use this cell to implement your solution\n",
    "\n",
    "\n"
   ]
  },
  {
   "cell_type": "markdown",
   "metadata": {},
   "source": [
    "## Exercise 9\n",
    "Ask the user to enter the number of qubits that Alice and Bob will compare.\n",
    "\n",
    "This is not a step in the protocol, but Alice and Bob have to compare a subset of qubits, so this information is needed."
   ]
  },
  {
   "cell_type": "code",
   "execution_count": null,
   "metadata": {},
   "outputs": [],
   "source": [
    "# Use this cell to implement your solution\n",
    "\n",
    "\n"
   ]
  },
  {
   "cell_type": "markdown",
   "metadata": {},
   "source": [
    "## Exercise 10\n",
    "Write a function to perform the last step in the protocol:\n",
    "\n",
    "*  Alice and Bob randomly pick a subset of the sifted pairs ($b_{i},m_{i}$) and compare them using a classical communication channel. If the outcomes correlate perfectly, they can confidently use the remaining ones as a sifted key!"
   ]
  },
  {
   "cell_type": "code",
   "execution_count": null,
   "metadata": {},
   "outputs": [],
   "source": [
    "# Use this cell to implement your solution\n",
    "\n",
    "\n"
   ]
  },
  {
   "cell_type": "markdown",
   "metadata": {},
   "source": [
    "## Exercise 11\n",
    "As an additional verification, not part of the protocol, you could implement a function to check if the final keys (or a subset of them) are equal. This is just for completeness, and it would not affect the overall behavior of the protocol, since it is just for your testing purpose."
   ]
  },
  {
   "cell_type": "code",
   "execution_count": null,
   "metadata": {},
   "outputs": [],
   "source": [
    "# Use this cell to implement your solution\n",
    "\n",
    "\n"
   ]
  },
  {
   "cell_type": "markdown",
   "metadata": {},
   "source": [
    "## Exercise 12\n",
    "Implement a simple test for your complete code, simulating the protocol between two parties. Assume that they want to distribute an initial key of 128-bits long ($N = 128$), and 32-bits ($M = 32$) for the checking process (or the user could enter those numbers in advance, if you prefer)."
   ]
  },
  {
   "cell_type": "code",
   "execution_count": null,
   "metadata": {},
   "outputs": [],
   "source": [
    "# Use this cell to implement your solution\n",
    "\n",
    "\n"
   ]
  },
  {
   "cell_type": "markdown",
   "metadata": {},
   "source": [
    "## Exercise 13\n",
    "\n",
    "A highly skilled hacker, Eve, was able to break into your system and is trying to access your private key. In fact, assume that Eve got access to the quantum channel and is intercepting the message, and disturbing the protocol. Basically, Alice sends the qubits, Eve intercepts them, but she tries to trick Bob by restoring the qubits with new ones, generated by her.\n",
    "\n",
    "Assume that Alice and Bob wanted to exchange an initial key of 128-bits long ($N = 128$), but they tried to reduce at the minimum the number of bits checked (variable number of $M$). What is the minimum number of bits that you need to compare in order to detect the hacker at\n",
    "your first attempt?\n",
    "\n",
    "Implement a test code simulating this process."
   ]
  },
  {
   "cell_type": "code",
   "execution_count": null,
   "metadata": {},
   "outputs": [],
   "source": [
    "# Use this cell to implement your solution\n",
    "\n",
    "\n"
   ]
  },
  {
   "cell_type": "markdown",
   "metadata": {},
   "source": [
    "## Exercise 14\n",
    "Now, assume that Alice and Bob wanted to exchange an initial key of 128-bits long ($N = 128$); but, due to external reasons, they can only check 4 bits ($M = 4$). Could you find a situation in which the hacker’s interference was not detected? How many attempts did it take you to find such situation?"
   ]
  },
  {
   "cell_type": "code",
   "execution_count": null,
   "metadata": {},
   "outputs": [],
   "source": [
    "# Use this cell to implement your solution\n",
    "\n",
    "\n"
   ]
  }
 ],
 "metadata": {
  "kernelspec": {
   "display_name": "Python 3 (ipykernel)",
   "language": "python",
   "name": "python3"
  },
  "language_info": {
   "codemirror_mode": {
    "name": "ipython",
    "version": 3
   },
   "file_extension": ".py",
   "mimetype": "text/x-python",
   "name": "python",
   "nbconvert_exporter": "python",
   "pygments_lexer": "ipython3",
   "version": "3.12.3"
  }
 },
 "nbformat": 4,
 "nbformat_minor": 4
}
